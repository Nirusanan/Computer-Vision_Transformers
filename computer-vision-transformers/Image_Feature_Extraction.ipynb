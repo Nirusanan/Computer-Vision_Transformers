{
  "nbformat": 4,
  "nbformat_minor": 0,
  "metadata": {
    "colab": {
      "provenance": [],
      "gpuType": "T4"
    },
    "kernelspec": {
      "name": "python3",
      "display_name": "Python 3"
    },
    "language_info": {
      "name": "python"
    },
    "accelerator": "GPU",
    "widgets": {
      "application/vnd.jupyter.widget-state+json": {
        "a22a6c19dd054ee4a5bd627f507a8bab": {
          "model_module": "@jupyter-widgets/controls",
          "model_name": "HBoxModel",
          "model_module_version": "1.5.0",
          "state": {
            "_dom_classes": [],
            "_model_module": "@jupyter-widgets/controls",
            "_model_module_version": "1.5.0",
            "_model_name": "HBoxModel",
            "_view_count": null,
            "_view_module": "@jupyter-widgets/controls",
            "_view_module_version": "1.5.0",
            "_view_name": "HBoxView",
            "box_style": "",
            "children": [
              "IPY_MODEL_8df1c59d87fb4c5fa2a2642519af6741",
              "IPY_MODEL_f8bb8d3ad00b4fbbbfa6302cefab7b4d",
              "IPY_MODEL_274e3ace8c99444695b4fb6a015ada8d"
            ],
            "layout": "IPY_MODEL_69d977c888254e00bee6b4c73dc4131a"
          }
        },
        "8df1c59d87fb4c5fa2a2642519af6741": {
          "model_module": "@jupyter-widgets/controls",
          "model_name": "HTMLModel",
          "model_module_version": "1.5.0",
          "state": {
            "_dom_classes": [],
            "_model_module": "@jupyter-widgets/controls",
            "_model_module_version": "1.5.0",
            "_model_name": "HTMLModel",
            "_view_count": null,
            "_view_module": "@jupyter-widgets/controls",
            "_view_module_version": "1.5.0",
            "_view_name": "HTMLView",
            "description": "",
            "description_tooltip": null,
            "layout": "IPY_MODEL_3dd6066abf124897bf89cd7f31e5be91",
            "placeholder": "​",
            "style": "IPY_MODEL_ac50f61206fc46f582237cefe8743c1b",
            "value": "config.json: 100%"
          }
        },
        "f8bb8d3ad00b4fbbbfa6302cefab7b4d": {
          "model_module": "@jupyter-widgets/controls",
          "model_name": "FloatProgressModel",
          "model_module_version": "1.5.0",
          "state": {
            "_dom_classes": [],
            "_model_module": "@jupyter-widgets/controls",
            "_model_module_version": "1.5.0",
            "_model_name": "FloatProgressModel",
            "_view_count": null,
            "_view_module": "@jupyter-widgets/controls",
            "_view_module_version": "1.5.0",
            "_view_name": "ProgressView",
            "bar_style": "success",
            "description": "",
            "description_tooltip": null,
            "layout": "IPY_MODEL_c788f6803f6d42a8872b48a8fea1eba3",
            "max": 69665,
            "min": 0,
            "orientation": "horizontal",
            "style": "IPY_MODEL_6b22ac95782946639d2b79a2208bc55b",
            "value": 69665
          }
        },
        "274e3ace8c99444695b4fb6a015ada8d": {
          "model_module": "@jupyter-widgets/controls",
          "model_name": "HTMLModel",
          "model_module_version": "1.5.0",
          "state": {
            "_dom_classes": [],
            "_model_module": "@jupyter-widgets/controls",
            "_model_module_version": "1.5.0",
            "_model_name": "HTMLModel",
            "_view_count": null,
            "_view_module": "@jupyter-widgets/controls",
            "_view_module_version": "1.5.0",
            "_view_name": "HTMLView",
            "description": "",
            "description_tooltip": null,
            "layout": "IPY_MODEL_2939b693c26d4c0a9e2ea0d04f2cabf8",
            "placeholder": "​",
            "style": "IPY_MODEL_5f6aec058a4e4afaab1abe6f8cecd1de",
            "value": " 69.7k/69.7k [00:00&lt;00:00, 3.29MB/s]"
          }
        },
        "69d977c888254e00bee6b4c73dc4131a": {
          "model_module": "@jupyter-widgets/base",
          "model_name": "LayoutModel",
          "model_module_version": "1.2.0",
          "state": {
            "_model_module": "@jupyter-widgets/base",
            "_model_module_version": "1.2.0",
            "_model_name": "LayoutModel",
            "_view_count": null,
            "_view_module": "@jupyter-widgets/base",
            "_view_module_version": "1.2.0",
            "_view_name": "LayoutView",
            "align_content": null,
            "align_items": null,
            "align_self": null,
            "border": null,
            "bottom": null,
            "display": null,
            "flex": null,
            "flex_flow": null,
            "grid_area": null,
            "grid_auto_columns": null,
            "grid_auto_flow": null,
            "grid_auto_rows": null,
            "grid_column": null,
            "grid_gap": null,
            "grid_row": null,
            "grid_template_areas": null,
            "grid_template_columns": null,
            "grid_template_rows": null,
            "height": null,
            "justify_content": null,
            "justify_items": null,
            "left": null,
            "margin": null,
            "max_height": null,
            "max_width": null,
            "min_height": null,
            "min_width": null,
            "object_fit": null,
            "object_position": null,
            "order": null,
            "overflow": null,
            "overflow_x": null,
            "overflow_y": null,
            "padding": null,
            "right": null,
            "top": null,
            "visibility": null,
            "width": null
          }
        },
        "3dd6066abf124897bf89cd7f31e5be91": {
          "model_module": "@jupyter-widgets/base",
          "model_name": "LayoutModel",
          "model_module_version": "1.2.0",
          "state": {
            "_model_module": "@jupyter-widgets/base",
            "_model_module_version": "1.2.0",
            "_model_name": "LayoutModel",
            "_view_count": null,
            "_view_module": "@jupyter-widgets/base",
            "_view_module_version": "1.2.0",
            "_view_name": "LayoutView",
            "align_content": null,
            "align_items": null,
            "align_self": null,
            "border": null,
            "bottom": null,
            "display": null,
            "flex": null,
            "flex_flow": null,
            "grid_area": null,
            "grid_auto_columns": null,
            "grid_auto_flow": null,
            "grid_auto_rows": null,
            "grid_column": null,
            "grid_gap": null,
            "grid_row": null,
            "grid_template_areas": null,
            "grid_template_columns": null,
            "grid_template_rows": null,
            "height": null,
            "justify_content": null,
            "justify_items": null,
            "left": null,
            "margin": null,
            "max_height": null,
            "max_width": null,
            "min_height": null,
            "min_width": null,
            "object_fit": null,
            "object_position": null,
            "order": null,
            "overflow": null,
            "overflow_x": null,
            "overflow_y": null,
            "padding": null,
            "right": null,
            "top": null,
            "visibility": null,
            "width": null
          }
        },
        "ac50f61206fc46f582237cefe8743c1b": {
          "model_module": "@jupyter-widgets/controls",
          "model_name": "DescriptionStyleModel",
          "model_module_version": "1.5.0",
          "state": {
            "_model_module": "@jupyter-widgets/controls",
            "_model_module_version": "1.5.0",
            "_model_name": "DescriptionStyleModel",
            "_view_count": null,
            "_view_module": "@jupyter-widgets/base",
            "_view_module_version": "1.2.0",
            "_view_name": "StyleView",
            "description_width": ""
          }
        },
        "c788f6803f6d42a8872b48a8fea1eba3": {
          "model_module": "@jupyter-widgets/base",
          "model_name": "LayoutModel",
          "model_module_version": "1.2.0",
          "state": {
            "_model_module": "@jupyter-widgets/base",
            "_model_module_version": "1.2.0",
            "_model_name": "LayoutModel",
            "_view_count": null,
            "_view_module": "@jupyter-widgets/base",
            "_view_module_version": "1.2.0",
            "_view_name": "LayoutView",
            "align_content": null,
            "align_items": null,
            "align_self": null,
            "border": null,
            "bottom": null,
            "display": null,
            "flex": null,
            "flex_flow": null,
            "grid_area": null,
            "grid_auto_columns": null,
            "grid_auto_flow": null,
            "grid_auto_rows": null,
            "grid_column": null,
            "grid_gap": null,
            "grid_row": null,
            "grid_template_areas": null,
            "grid_template_columns": null,
            "grid_template_rows": null,
            "height": null,
            "justify_content": null,
            "justify_items": null,
            "left": null,
            "margin": null,
            "max_height": null,
            "max_width": null,
            "min_height": null,
            "min_width": null,
            "object_fit": null,
            "object_position": null,
            "order": null,
            "overflow": null,
            "overflow_x": null,
            "overflow_y": null,
            "padding": null,
            "right": null,
            "top": null,
            "visibility": null,
            "width": null
          }
        },
        "6b22ac95782946639d2b79a2208bc55b": {
          "model_module": "@jupyter-widgets/controls",
          "model_name": "ProgressStyleModel",
          "model_module_version": "1.5.0",
          "state": {
            "_model_module": "@jupyter-widgets/controls",
            "_model_module_version": "1.5.0",
            "_model_name": "ProgressStyleModel",
            "_view_count": null,
            "_view_module": "@jupyter-widgets/base",
            "_view_module_version": "1.2.0",
            "_view_name": "StyleView",
            "bar_color": null,
            "description_width": ""
          }
        },
        "2939b693c26d4c0a9e2ea0d04f2cabf8": {
          "model_module": "@jupyter-widgets/base",
          "model_name": "LayoutModel",
          "model_module_version": "1.2.0",
          "state": {
            "_model_module": "@jupyter-widgets/base",
            "_model_module_version": "1.2.0",
            "_model_name": "LayoutModel",
            "_view_count": null,
            "_view_module": "@jupyter-widgets/base",
            "_view_module_version": "1.2.0",
            "_view_name": "LayoutView",
            "align_content": null,
            "align_items": null,
            "align_self": null,
            "border": null,
            "bottom": null,
            "display": null,
            "flex": null,
            "flex_flow": null,
            "grid_area": null,
            "grid_auto_columns": null,
            "grid_auto_flow": null,
            "grid_auto_rows": null,
            "grid_column": null,
            "grid_gap": null,
            "grid_row": null,
            "grid_template_areas": null,
            "grid_template_columns": null,
            "grid_template_rows": null,
            "height": null,
            "justify_content": null,
            "justify_items": null,
            "left": null,
            "margin": null,
            "max_height": null,
            "max_width": null,
            "min_height": null,
            "min_width": null,
            "object_fit": null,
            "object_position": null,
            "order": null,
            "overflow": null,
            "overflow_x": null,
            "overflow_y": null,
            "padding": null,
            "right": null,
            "top": null,
            "visibility": null,
            "width": null
          }
        },
        "5f6aec058a4e4afaab1abe6f8cecd1de": {
          "model_module": "@jupyter-widgets/controls",
          "model_name": "DescriptionStyleModel",
          "model_module_version": "1.5.0",
          "state": {
            "_model_module": "@jupyter-widgets/controls",
            "_model_module_version": "1.5.0",
            "_model_name": "DescriptionStyleModel",
            "_view_count": null,
            "_view_module": "@jupyter-widgets/base",
            "_view_module_version": "1.2.0",
            "_view_name": "StyleView",
            "description_width": ""
          }
        },
        "d5be1cc9257d42508b227b615c5ea482": {
          "model_module": "@jupyter-widgets/controls",
          "model_name": "HBoxModel",
          "model_module_version": "1.5.0",
          "state": {
            "_dom_classes": [],
            "_model_module": "@jupyter-widgets/controls",
            "_model_module_version": "1.5.0",
            "_model_name": "HBoxModel",
            "_view_count": null,
            "_view_module": "@jupyter-widgets/controls",
            "_view_module_version": "1.5.0",
            "_view_name": "HBoxView",
            "box_style": "",
            "children": [
              "IPY_MODEL_074cca21da184d2194b92a9a137e6516",
              "IPY_MODEL_b95dcef9768544a7aece8bfb7673690d",
              "IPY_MODEL_1a9f5d8d502c474b9cf27c89de27e93b"
            ],
            "layout": "IPY_MODEL_75ea9c1b07704621afc84398a6938b1e"
          }
        },
        "074cca21da184d2194b92a9a137e6516": {
          "model_module": "@jupyter-widgets/controls",
          "model_name": "HTMLModel",
          "model_module_version": "1.5.0",
          "state": {
            "_dom_classes": [],
            "_model_module": "@jupyter-widgets/controls",
            "_model_module_version": "1.5.0",
            "_model_name": "HTMLModel",
            "_view_count": null,
            "_view_module": "@jupyter-widgets/controls",
            "_view_module_version": "1.5.0",
            "_view_name": "HTMLView",
            "description": "",
            "description_tooltip": null,
            "layout": "IPY_MODEL_126d0b7f0c3e42469c7332eb848450e0",
            "placeholder": "​",
            "style": "IPY_MODEL_7eeff8cac3fc4f37b77beedeb3dfeae8",
            "value": "model.safetensors: 100%"
          }
        },
        "b95dcef9768544a7aece8bfb7673690d": {
          "model_module": "@jupyter-widgets/controls",
          "model_name": "FloatProgressModel",
          "model_module_version": "1.5.0",
          "state": {
            "_dom_classes": [],
            "_model_module": "@jupyter-widgets/controls",
            "_model_module_version": "1.5.0",
            "_model_name": "FloatProgressModel",
            "_view_count": null,
            "_view_module": "@jupyter-widgets/controls",
            "_view_module_version": "1.5.0",
            "_view_name": "ProgressView",
            "bar_style": "success",
            "description": "",
            "description_tooltip": null,
            "layout": "IPY_MODEL_2abc30202c2e463999dda33aaf6563cd",
            "max": 346293852,
            "min": 0,
            "orientation": "horizontal",
            "style": "IPY_MODEL_31c81f3784234fb2953c92a9e20a2081",
            "value": 346293852
          }
        },
        "1a9f5d8d502c474b9cf27c89de27e93b": {
          "model_module": "@jupyter-widgets/controls",
          "model_name": "HTMLModel",
          "model_module_version": "1.5.0",
          "state": {
            "_dom_classes": [],
            "_model_module": "@jupyter-widgets/controls",
            "_model_module_version": "1.5.0",
            "_model_name": "HTMLModel",
            "_view_count": null,
            "_view_module": "@jupyter-widgets/controls",
            "_view_module_version": "1.5.0",
            "_view_name": "HTMLView",
            "description": "",
            "description_tooltip": null,
            "layout": "IPY_MODEL_2979bc8110fc4e12be4e4d5a320844be",
            "placeholder": "​",
            "style": "IPY_MODEL_17b3ec61577d4c26917cba2b0d0be1c9",
            "value": " 346M/346M [00:03&lt;00:00, 83.1MB/s]"
          }
        },
        "75ea9c1b07704621afc84398a6938b1e": {
          "model_module": "@jupyter-widgets/base",
          "model_name": "LayoutModel",
          "model_module_version": "1.2.0",
          "state": {
            "_model_module": "@jupyter-widgets/base",
            "_model_module_version": "1.2.0",
            "_model_name": "LayoutModel",
            "_view_count": null,
            "_view_module": "@jupyter-widgets/base",
            "_view_module_version": "1.2.0",
            "_view_name": "LayoutView",
            "align_content": null,
            "align_items": null,
            "align_self": null,
            "border": null,
            "bottom": null,
            "display": null,
            "flex": null,
            "flex_flow": null,
            "grid_area": null,
            "grid_auto_columns": null,
            "grid_auto_flow": null,
            "grid_auto_rows": null,
            "grid_column": null,
            "grid_gap": null,
            "grid_row": null,
            "grid_template_areas": null,
            "grid_template_columns": null,
            "grid_template_rows": null,
            "height": null,
            "justify_content": null,
            "justify_items": null,
            "left": null,
            "margin": null,
            "max_height": null,
            "max_width": null,
            "min_height": null,
            "min_width": null,
            "object_fit": null,
            "object_position": null,
            "order": null,
            "overflow": null,
            "overflow_x": null,
            "overflow_y": null,
            "padding": null,
            "right": null,
            "top": null,
            "visibility": null,
            "width": null
          }
        },
        "126d0b7f0c3e42469c7332eb848450e0": {
          "model_module": "@jupyter-widgets/base",
          "model_name": "LayoutModel",
          "model_module_version": "1.2.0",
          "state": {
            "_model_module": "@jupyter-widgets/base",
            "_model_module_version": "1.2.0",
            "_model_name": "LayoutModel",
            "_view_count": null,
            "_view_module": "@jupyter-widgets/base",
            "_view_module_version": "1.2.0",
            "_view_name": "LayoutView",
            "align_content": null,
            "align_items": null,
            "align_self": null,
            "border": null,
            "bottom": null,
            "display": null,
            "flex": null,
            "flex_flow": null,
            "grid_area": null,
            "grid_auto_columns": null,
            "grid_auto_flow": null,
            "grid_auto_rows": null,
            "grid_column": null,
            "grid_gap": null,
            "grid_row": null,
            "grid_template_areas": null,
            "grid_template_columns": null,
            "grid_template_rows": null,
            "height": null,
            "justify_content": null,
            "justify_items": null,
            "left": null,
            "margin": null,
            "max_height": null,
            "max_width": null,
            "min_height": null,
            "min_width": null,
            "object_fit": null,
            "object_position": null,
            "order": null,
            "overflow": null,
            "overflow_x": null,
            "overflow_y": null,
            "padding": null,
            "right": null,
            "top": null,
            "visibility": null,
            "width": null
          }
        },
        "7eeff8cac3fc4f37b77beedeb3dfeae8": {
          "model_module": "@jupyter-widgets/controls",
          "model_name": "DescriptionStyleModel",
          "model_module_version": "1.5.0",
          "state": {
            "_model_module": "@jupyter-widgets/controls",
            "_model_module_version": "1.5.0",
            "_model_name": "DescriptionStyleModel",
            "_view_count": null,
            "_view_module": "@jupyter-widgets/base",
            "_view_module_version": "1.2.0",
            "_view_name": "StyleView",
            "description_width": ""
          }
        },
        "2abc30202c2e463999dda33aaf6563cd": {
          "model_module": "@jupyter-widgets/base",
          "model_name": "LayoutModel",
          "model_module_version": "1.2.0",
          "state": {
            "_model_module": "@jupyter-widgets/base",
            "_model_module_version": "1.2.0",
            "_model_name": "LayoutModel",
            "_view_count": null,
            "_view_module": "@jupyter-widgets/base",
            "_view_module_version": "1.2.0",
            "_view_name": "LayoutView",
            "align_content": null,
            "align_items": null,
            "align_self": null,
            "border": null,
            "bottom": null,
            "display": null,
            "flex": null,
            "flex_flow": null,
            "grid_area": null,
            "grid_auto_columns": null,
            "grid_auto_flow": null,
            "grid_auto_rows": null,
            "grid_column": null,
            "grid_gap": null,
            "grid_row": null,
            "grid_template_areas": null,
            "grid_template_columns": null,
            "grid_template_rows": null,
            "height": null,
            "justify_content": null,
            "justify_items": null,
            "left": null,
            "margin": null,
            "max_height": null,
            "max_width": null,
            "min_height": null,
            "min_width": null,
            "object_fit": null,
            "object_position": null,
            "order": null,
            "overflow": null,
            "overflow_x": null,
            "overflow_y": null,
            "padding": null,
            "right": null,
            "top": null,
            "visibility": null,
            "width": null
          }
        },
        "31c81f3784234fb2953c92a9e20a2081": {
          "model_module": "@jupyter-widgets/controls",
          "model_name": "ProgressStyleModel",
          "model_module_version": "1.5.0",
          "state": {
            "_model_module": "@jupyter-widgets/controls",
            "_model_module_version": "1.5.0",
            "_model_name": "ProgressStyleModel",
            "_view_count": null,
            "_view_module": "@jupyter-widgets/base",
            "_view_module_version": "1.2.0",
            "_view_name": "StyleView",
            "bar_color": null,
            "description_width": ""
          }
        },
        "2979bc8110fc4e12be4e4d5a320844be": {
          "model_module": "@jupyter-widgets/base",
          "model_name": "LayoutModel",
          "model_module_version": "1.2.0",
          "state": {
            "_model_module": "@jupyter-widgets/base",
            "_model_module_version": "1.2.0",
            "_model_name": "LayoutModel",
            "_view_count": null,
            "_view_module": "@jupyter-widgets/base",
            "_view_module_version": "1.2.0",
            "_view_name": "LayoutView",
            "align_content": null,
            "align_items": null,
            "align_self": null,
            "border": null,
            "bottom": null,
            "display": null,
            "flex": null,
            "flex_flow": null,
            "grid_area": null,
            "grid_auto_columns": null,
            "grid_auto_flow": null,
            "grid_auto_rows": null,
            "grid_column": null,
            "grid_gap": null,
            "grid_row": null,
            "grid_template_areas": null,
            "grid_template_columns": null,
            "grid_template_rows": null,
            "height": null,
            "justify_content": null,
            "justify_items": null,
            "left": null,
            "margin": null,
            "max_height": null,
            "max_width": null,
            "min_height": null,
            "min_width": null,
            "object_fit": null,
            "object_position": null,
            "order": null,
            "overflow": null,
            "overflow_x": null,
            "overflow_y": null,
            "padding": null,
            "right": null,
            "top": null,
            "visibility": null,
            "width": null
          }
        },
        "17b3ec61577d4c26917cba2b0d0be1c9": {
          "model_module": "@jupyter-widgets/controls",
          "model_name": "DescriptionStyleModel",
          "model_module_version": "1.5.0",
          "state": {
            "_model_module": "@jupyter-widgets/controls",
            "_model_module_version": "1.5.0",
            "_model_name": "DescriptionStyleModel",
            "_view_count": null,
            "_view_module": "@jupyter-widgets/base",
            "_view_module_version": "1.2.0",
            "_view_name": "StyleView",
            "description_width": ""
          }
        },
        "7bf72456174c475197af6a31466bda61": {
          "model_module": "@jupyter-widgets/controls",
          "model_name": "HBoxModel",
          "model_module_version": "1.5.0",
          "state": {
            "_dom_classes": [],
            "_model_module": "@jupyter-widgets/controls",
            "_model_module_version": "1.5.0",
            "_model_name": "HBoxModel",
            "_view_count": null,
            "_view_module": "@jupyter-widgets/controls",
            "_view_module_version": "1.5.0",
            "_view_name": "HBoxView",
            "box_style": "",
            "children": [
              "IPY_MODEL_e192f9ee5bde43d791230f05943ed3c8",
              "IPY_MODEL_5cb1446d2d624a89a8811cbae86ff6a8",
              "IPY_MODEL_158a91953deb4c9d836360bc496b1f8a"
            ],
            "layout": "IPY_MODEL_0437fcc10a384508bfe4a6f57d204087"
          }
        },
        "e192f9ee5bde43d791230f05943ed3c8": {
          "model_module": "@jupyter-widgets/controls",
          "model_name": "HTMLModel",
          "model_module_version": "1.5.0",
          "state": {
            "_dom_classes": [],
            "_model_module": "@jupyter-widgets/controls",
            "_model_module_version": "1.5.0",
            "_model_name": "HTMLModel",
            "_view_count": null,
            "_view_module": "@jupyter-widgets/controls",
            "_view_module_version": "1.5.0",
            "_view_name": "HTMLView",
            "description": "",
            "description_tooltip": null,
            "layout": "IPY_MODEL_e8ac206af79e4db889bb8f82f4afeb01",
            "placeholder": "​",
            "style": "IPY_MODEL_9a7a7b75eedf468e917c9dd2d5c9ed84",
            "value": "preprocessor_config.json: 100%"
          }
        },
        "5cb1446d2d624a89a8811cbae86ff6a8": {
          "model_module": "@jupyter-widgets/controls",
          "model_name": "FloatProgressModel",
          "model_module_version": "1.5.0",
          "state": {
            "_dom_classes": [],
            "_model_module": "@jupyter-widgets/controls",
            "_model_module_version": "1.5.0",
            "_model_name": "FloatProgressModel",
            "_view_count": null,
            "_view_module": "@jupyter-widgets/controls",
            "_view_module_version": "1.5.0",
            "_view_name": "ProgressView",
            "bar_style": "success",
            "description": "",
            "description_tooltip": null,
            "layout": "IPY_MODEL_a55ffd4803d64c22bfe9582bfa4c9121",
            "max": 160,
            "min": 0,
            "orientation": "horizontal",
            "style": "IPY_MODEL_816b01547e814db38ab046a605a51f3b",
            "value": 160
          }
        },
        "158a91953deb4c9d836360bc496b1f8a": {
          "model_module": "@jupyter-widgets/controls",
          "model_name": "HTMLModel",
          "model_module_version": "1.5.0",
          "state": {
            "_dom_classes": [],
            "_model_module": "@jupyter-widgets/controls",
            "_model_module_version": "1.5.0",
            "_model_name": "HTMLModel",
            "_view_count": null,
            "_view_module": "@jupyter-widgets/controls",
            "_view_module_version": "1.5.0",
            "_view_name": "HTMLView",
            "description": "",
            "description_tooltip": null,
            "layout": "IPY_MODEL_91c80e52a4694591b0eddf4dbd2e93b6",
            "placeholder": "​",
            "style": "IPY_MODEL_a53f757cc1094946b176179a00a33dcb",
            "value": " 160/160 [00:00&lt;00:00, 5.38kB/s]"
          }
        },
        "0437fcc10a384508bfe4a6f57d204087": {
          "model_module": "@jupyter-widgets/base",
          "model_name": "LayoutModel",
          "model_module_version": "1.2.0",
          "state": {
            "_model_module": "@jupyter-widgets/base",
            "_model_module_version": "1.2.0",
            "_model_name": "LayoutModel",
            "_view_count": null,
            "_view_module": "@jupyter-widgets/base",
            "_view_module_version": "1.2.0",
            "_view_name": "LayoutView",
            "align_content": null,
            "align_items": null,
            "align_self": null,
            "border": null,
            "bottom": null,
            "display": null,
            "flex": null,
            "flex_flow": null,
            "grid_area": null,
            "grid_auto_columns": null,
            "grid_auto_flow": null,
            "grid_auto_rows": null,
            "grid_column": null,
            "grid_gap": null,
            "grid_row": null,
            "grid_template_areas": null,
            "grid_template_columns": null,
            "grid_template_rows": null,
            "height": null,
            "justify_content": null,
            "justify_items": null,
            "left": null,
            "margin": null,
            "max_height": null,
            "max_width": null,
            "min_height": null,
            "min_width": null,
            "object_fit": null,
            "object_position": null,
            "order": null,
            "overflow": null,
            "overflow_x": null,
            "overflow_y": null,
            "padding": null,
            "right": null,
            "top": null,
            "visibility": null,
            "width": null
          }
        },
        "e8ac206af79e4db889bb8f82f4afeb01": {
          "model_module": "@jupyter-widgets/base",
          "model_name": "LayoutModel",
          "model_module_version": "1.2.0",
          "state": {
            "_model_module": "@jupyter-widgets/base",
            "_model_module_version": "1.2.0",
            "_model_name": "LayoutModel",
            "_view_count": null,
            "_view_module": "@jupyter-widgets/base",
            "_view_module_version": "1.2.0",
            "_view_name": "LayoutView",
            "align_content": null,
            "align_items": null,
            "align_self": null,
            "border": null,
            "bottom": null,
            "display": null,
            "flex": null,
            "flex_flow": null,
            "grid_area": null,
            "grid_auto_columns": null,
            "grid_auto_flow": null,
            "grid_auto_rows": null,
            "grid_column": null,
            "grid_gap": null,
            "grid_row": null,
            "grid_template_areas": null,
            "grid_template_columns": null,
            "grid_template_rows": null,
            "height": null,
            "justify_content": null,
            "justify_items": null,
            "left": null,
            "margin": null,
            "max_height": null,
            "max_width": null,
            "min_height": null,
            "min_width": null,
            "object_fit": null,
            "object_position": null,
            "order": null,
            "overflow": null,
            "overflow_x": null,
            "overflow_y": null,
            "padding": null,
            "right": null,
            "top": null,
            "visibility": null,
            "width": null
          }
        },
        "9a7a7b75eedf468e917c9dd2d5c9ed84": {
          "model_module": "@jupyter-widgets/controls",
          "model_name": "DescriptionStyleModel",
          "model_module_version": "1.5.0",
          "state": {
            "_model_module": "@jupyter-widgets/controls",
            "_model_module_version": "1.5.0",
            "_model_name": "DescriptionStyleModel",
            "_view_count": null,
            "_view_module": "@jupyter-widgets/base",
            "_view_module_version": "1.2.0",
            "_view_name": "StyleView",
            "description_width": ""
          }
        },
        "a55ffd4803d64c22bfe9582bfa4c9121": {
          "model_module": "@jupyter-widgets/base",
          "model_name": "LayoutModel",
          "model_module_version": "1.2.0",
          "state": {
            "_model_module": "@jupyter-widgets/base",
            "_model_module_version": "1.2.0",
            "_model_name": "LayoutModel",
            "_view_count": null,
            "_view_module": "@jupyter-widgets/base",
            "_view_module_version": "1.2.0",
            "_view_name": "LayoutView",
            "align_content": null,
            "align_items": null,
            "align_self": null,
            "border": null,
            "bottom": null,
            "display": null,
            "flex": null,
            "flex_flow": null,
            "grid_area": null,
            "grid_auto_columns": null,
            "grid_auto_flow": null,
            "grid_auto_rows": null,
            "grid_column": null,
            "grid_gap": null,
            "grid_row": null,
            "grid_template_areas": null,
            "grid_template_columns": null,
            "grid_template_rows": null,
            "height": null,
            "justify_content": null,
            "justify_items": null,
            "left": null,
            "margin": null,
            "max_height": null,
            "max_width": null,
            "min_height": null,
            "min_width": null,
            "object_fit": null,
            "object_position": null,
            "order": null,
            "overflow": null,
            "overflow_x": null,
            "overflow_y": null,
            "padding": null,
            "right": null,
            "top": null,
            "visibility": null,
            "width": null
          }
        },
        "816b01547e814db38ab046a605a51f3b": {
          "model_module": "@jupyter-widgets/controls",
          "model_name": "ProgressStyleModel",
          "model_module_version": "1.5.0",
          "state": {
            "_model_module": "@jupyter-widgets/controls",
            "_model_module_version": "1.5.0",
            "_model_name": "ProgressStyleModel",
            "_view_count": null,
            "_view_module": "@jupyter-widgets/base",
            "_view_module_version": "1.2.0",
            "_view_name": "StyleView",
            "bar_color": null,
            "description_width": ""
          }
        },
        "91c80e52a4694591b0eddf4dbd2e93b6": {
          "model_module": "@jupyter-widgets/base",
          "model_name": "LayoutModel",
          "model_module_version": "1.2.0",
          "state": {
            "_model_module": "@jupyter-widgets/base",
            "_model_module_version": "1.2.0",
            "_model_name": "LayoutModel",
            "_view_count": null,
            "_view_module": "@jupyter-widgets/base",
            "_view_module_version": "1.2.0",
            "_view_name": "LayoutView",
            "align_content": null,
            "align_items": null,
            "align_self": null,
            "border": null,
            "bottom": null,
            "display": null,
            "flex": null,
            "flex_flow": null,
            "grid_area": null,
            "grid_auto_columns": null,
            "grid_auto_flow": null,
            "grid_auto_rows": null,
            "grid_column": null,
            "grid_gap": null,
            "grid_row": null,
            "grid_template_areas": null,
            "grid_template_columns": null,
            "grid_template_rows": null,
            "height": null,
            "justify_content": null,
            "justify_items": null,
            "left": null,
            "margin": null,
            "max_height": null,
            "max_width": null,
            "min_height": null,
            "min_width": null,
            "object_fit": null,
            "object_position": null,
            "order": null,
            "overflow": null,
            "overflow_x": null,
            "overflow_y": null,
            "padding": null,
            "right": null,
            "top": null,
            "visibility": null,
            "width": null
          }
        },
        "a53f757cc1094946b176179a00a33dcb": {
          "model_module": "@jupyter-widgets/controls",
          "model_name": "DescriptionStyleModel",
          "model_module_version": "1.5.0",
          "state": {
            "_model_module": "@jupyter-widgets/controls",
            "_model_module_version": "1.5.0",
            "_model_name": "DescriptionStyleModel",
            "_view_count": null,
            "_view_module": "@jupyter-widgets/base",
            "_view_module_version": "1.2.0",
            "_view_name": "StyleView",
            "description_width": ""
          }
        }
      }
    }
  },
  "cells": [
    {
      "cell_type": "code",
      "execution_count": 1,
      "metadata": {
        "colab": {
          "base_uri": "https://localhost:8080/"
        },
        "id": "7TxzRS1399W2",
        "outputId": "b4c5ccbe-b893-4d7c-b314-e13ee185e918"
      },
      "outputs": [
        {
          "output_type": "stream",
          "name": "stdout",
          "text": [
            "\u001b[2K     \u001b[90m━━━━━━━━━━━━━━━━━━━━━━━━━━━━━━━━━━━━━━━━\u001b[0m \u001b[32m43.7/43.7 kB\u001b[0m \u001b[31m663.7 kB/s\u001b[0m eta \u001b[36m0:00:00\u001b[0m\n",
            "\u001b[2K   \u001b[90m━━━━━━━━━━━━━━━━━━━━━━━━━━━━━━━━━━━━━━━━\u001b[0m \u001b[32m9.5/9.5 MB\u001b[0m \u001b[31m18.3 MB/s\u001b[0m eta \u001b[36m0:00:00\u001b[0m\n",
            "\u001b[?25h"
          ]
        }
      ],
      "source": [
        "! pip install -q -U transformers"
      ]
    },
    {
      "cell_type": "markdown",
      "source": [
        "# Image Similarity using image-feature-extraction Pipeline"
      ],
      "metadata": {
        "id": "ZoSJf1gvHF2I"
      }
    },
    {
      "cell_type": "code",
      "source": [
        "from PIL import Image\n",
        "import requests\n",
        "\n",
        "img_urls = [\"https://huggingface.co/datasets/huggingface/documentation-images/resolve/main/cats.png\", \"https://huggingface.co/datasets/huggingface/documentation-images/resolve/main/cats.jpeg\"]\n",
        "image_real = Image.open(requests.get(img_urls[0], stream=True).raw).convert(\"RGB\")\n",
        "image_gen = Image.open(requests.get(img_urls[1], stream=True).raw).convert(\"RGB\")"
      ],
      "metadata": {
        "id": "JF8uRlsgGXPT"
      },
      "execution_count": 2,
      "outputs": []
    },
    {
      "cell_type": "code",
      "source": [
        "import torch\n",
        "from transformers import pipeline\n",
        "\n",
        "DEVICE = torch.device('cuda' if torch.cuda.is_available() else 'cpu')\n",
        "pipe = pipeline(task=\"image-feature-extraction\", model_name=\"google/vit-base-patch16-384\", device=DEVICE, pool=True)"
      ],
      "metadata": {
        "colab": {
          "base_uri": "https://localhost:8080/",
          "height": 324,
          "referenced_widgets": [
            "a22a6c19dd054ee4a5bd627f507a8bab",
            "8df1c59d87fb4c5fa2a2642519af6741",
            "f8bb8d3ad00b4fbbbfa6302cefab7b4d",
            "274e3ace8c99444695b4fb6a015ada8d",
            "69d977c888254e00bee6b4c73dc4131a",
            "3dd6066abf124897bf89cd7f31e5be91",
            "ac50f61206fc46f582237cefe8743c1b",
            "c788f6803f6d42a8872b48a8fea1eba3",
            "6b22ac95782946639d2b79a2208bc55b",
            "2939b693c26d4c0a9e2ea0d04f2cabf8",
            "5f6aec058a4e4afaab1abe6f8cecd1de",
            "d5be1cc9257d42508b227b615c5ea482",
            "074cca21da184d2194b92a9a137e6516",
            "b95dcef9768544a7aece8bfb7673690d",
            "1a9f5d8d502c474b9cf27c89de27e93b",
            "75ea9c1b07704621afc84398a6938b1e",
            "126d0b7f0c3e42469c7332eb848450e0",
            "7eeff8cac3fc4f37b77beedeb3dfeae8",
            "2abc30202c2e463999dda33aaf6563cd",
            "31c81f3784234fb2953c92a9e20a2081",
            "2979bc8110fc4e12be4e4d5a320844be",
            "17b3ec61577d4c26917cba2b0d0be1c9",
            "7bf72456174c475197af6a31466bda61",
            "e192f9ee5bde43d791230f05943ed3c8",
            "5cb1446d2d624a89a8811cbae86ff6a8",
            "158a91953deb4c9d836360bc496b1f8a",
            "0437fcc10a384508bfe4a6f57d204087",
            "e8ac206af79e4db889bb8f82f4afeb01",
            "9a7a7b75eedf468e917c9dd2d5c9ed84",
            "a55ffd4803d64c22bfe9582bfa4c9121",
            "816b01547e814db38ab046a605a51f3b",
            "91c80e52a4694591b0eddf4dbd2e93b6",
            "a53f757cc1094946b176179a00a33dcb"
          ]
        },
        "id": "RQmUyJQWGeyj",
        "outputId": "e25dc170-3a2b-48ea-fb30-51b24ea0f49a"
      },
      "execution_count": 3,
      "outputs": [
        {
          "output_type": "stream",
          "name": "stderr",
          "text": [
            "No model was supplied, defaulted to google/vit-base-patch16-224 and revision 3f49326 (https://huggingface.co/google/vit-base-patch16-224).\n",
            "Using a pipeline without specifying a model name and revision in production is not recommended.\n",
            "/usr/local/lib/python3.10/dist-packages/huggingface_hub/utils/_token.py:89: UserWarning: \n",
            "The secret `HF_TOKEN` does not exist in your Colab secrets.\n",
            "To authenticate with the Hugging Face Hub, create a token in your settings tab (https://huggingface.co/settings/tokens), set it as secret in your Google Colab and restart your session.\n",
            "You will be able to reuse this secret in all of your notebooks.\n",
            "Please note that authentication is recommended but still optional to access public models or datasets.\n",
            "  warnings.warn(\n"
          ]
        },
        {
          "output_type": "display_data",
          "data": {
            "text/plain": [
              "config.json:   0%|          | 0.00/69.7k [00:00<?, ?B/s]"
            ],
            "application/vnd.jupyter.widget-view+json": {
              "version_major": 2,
              "version_minor": 0,
              "model_id": "a22a6c19dd054ee4a5bd627f507a8bab"
            }
          },
          "metadata": {}
        },
        {
          "output_type": "display_data",
          "data": {
            "text/plain": [
              "model.safetensors:   0%|          | 0.00/346M [00:00<?, ?B/s]"
            ],
            "application/vnd.jupyter.widget-view+json": {
              "version_major": 2,
              "version_minor": 0,
              "model_id": "d5be1cc9257d42508b227b615c5ea482"
            }
          },
          "metadata": {}
        },
        {
          "output_type": "stream",
          "name": "stderr",
          "text": [
            "Some weights of ViTModel were not initialized from the model checkpoint at google/vit-base-patch16-224 and are newly initialized: ['vit.pooler.dense.bias', 'vit.pooler.dense.weight']\n",
            "You should probably TRAIN this model on a down-stream task to be able to use it for predictions and inference.\n"
          ]
        },
        {
          "output_type": "display_data",
          "data": {
            "text/plain": [
              "preprocessor_config.json:   0%|          | 0.00/160 [00:00<?, ?B/s]"
            ],
            "application/vnd.jupyter.widget-view+json": {
              "version_major": 2,
              "version_minor": 0,
              "model_id": "7bf72456174c475197af6a31466bda61"
            }
          },
          "metadata": {}
        },
        {
          "output_type": "stream",
          "name": "stderr",
          "text": [
            "Fast image processor class <class 'transformers.models.vit.image_processing_vit_fast.ViTImageProcessorFast'> is available for this model. Using slow image processor class. To use the fast image processor class set `use_fast=True`.\n"
          ]
        }
      ]
    },
    {
      "cell_type": "code",
      "source": [
        "outputs = pipe([image_real, image_gen])"
      ],
      "metadata": {
        "id": "g-4uYjOBGhXz"
      },
      "execution_count": 4,
      "outputs": []
    },
    {
      "cell_type": "code",
      "source": [
        "print(len(outputs[0][0]))\n",
        "\n",
        "print(outputs)"
      ],
      "metadata": {
        "colab": {
          "base_uri": "https://localhost:8080/"
        },
        "id": "UKywmRCiGjs9",
        "outputId": "541695d7-597e-4206-ee2c-4d3433810ad2"
      },
      "execution_count": 5,
      "outputs": [
        {
          "output_type": "stream",
          "name": "stdout",
          "text": [
            "768\n",
            "[[[-0.13443323969841003, -0.06897984445095062, 0.7519599795341492, -0.5975748300552368, -0.19085285067558289, -0.3895489573478699, 0.004786008037626743, 0.603377103805542, 0.23637253046035767, -3.343820571899414e-05, 0.15368743240833282, 0.0454290509223938, -0.5765448808670044, 0.513076901435852, -0.16691400110721588, -0.7288758754730225, 0.09910213947296143, 0.3478758633136749, 0.12680870294570923, 0.5165526270866394, -0.47148045897483826, -0.35252562165260315, 0.6151487827301025, -0.8368660807609558, 0.5453609824180603, -0.5800349712371826, -0.335958868265152, -0.6935988068580627, 0.1019371896982193, -0.3821798861026764, -0.23364120721817017, 0.015171198174357414, -0.5786889791488647, 0.08876559138298035, 0.511734127998352, 0.03092326410114765, -0.003169585485011339, -0.37763214111328125, -0.11757613718509674, -0.15731540322303772, -0.17270304262638092, -0.5745357275009155, 0.4461703598499298, 0.40571311116218567, -0.1716081202030182, -0.3662230670452118, 0.5878416299819946, 0.1951131522655487, 0.0444738045334816, -0.6275613307952881, 0.12399718910455704, 0.15413616597652435, -0.5951620936393738, 0.32580187916755676, -0.163347527384758, 0.09087014943361282, 0.5242081880569458, 0.29095378518104553, -0.8005936741828918, 0.37982404232025146, 0.4307233393192291, 0.15137416124343872, 0.263886958360672, -0.5566900968551636, -0.2504495680332184, 0.4866791069507599, -0.3361537456512451, -0.6172261238098145, 0.018114015460014343, -0.6435826420783997, 0.8057031631469727, 0.4484114646911621, -0.2390974760055542, -0.4454534351825714, -0.0527791902422905, -0.3794320821762085, -0.5739803314208984, 0.4808530807495117, 0.20595836639404297, -0.5611864328384399, 0.7867252826690674, 0.705152153968811, -0.5137817859649658, -0.1291666477918625, 0.21544326841831207, -0.41649875044822693, -0.13749809563159943, -0.24234753847122192, -0.2963505685329437, 0.24809685349464417, -0.06804779171943665, -0.5938352346420288, -0.28017422556877136, -0.06609435379505157, 0.06816829741001129, 0.34189465641975403, 0.15124385058879852, -0.5949974656105042, -0.32826265692710876, 0.2465701401233673, -0.8696444630622864, 0.8518993854522705, 0.3683699071407318, 0.2556539475917816, -0.24271702766418457, -0.437133252620697, -0.08371331542730331, -0.5075253844261169, 0.552499532699585, 0.6674332022666931, 0.5488517880439758, 0.039129920303821564, 0.49599310755729675, 0.5485101342201233, -0.0379212349653244, 0.38880065083503723, -0.23536238074302673, 0.021732574328780174, 0.5818173885345459, -0.07329919934272766, 0.023739615455269814, 0.07060804963111877, -0.4109167456626892, -0.7739589810371399, 0.5417161583900452, 0.2317977100610733, -0.6440969705581665, -0.26710280776023865, -0.38436105847358704, -0.22487963736057281, -0.3591573238372803, 0.2251749485731125, 0.4962419867515564, 0.3507550060749054, 0.10904040932655334, 0.20037171244621277, -0.46926814317703247, -0.4664478003978729, -0.5368884205818176, -0.31734317541122437, 0.23273800313472748, 0.25445204973220825, -0.17534534633159637, -0.40474429726600647, 0.03640538081526756, -0.033887580037117004, 0.762490451335907, 0.2426760047674179, -0.20487801730632782, 0.06341557949781418, 0.551907479763031, -0.39160194993019104, 0.28939491510391235, -0.020188605412840843, -0.7269999384880066, 0.44992539286613464, 0.3598014712333679, -0.08604288846254349, 0.4292692542076111, -0.7591941356658936, -0.07011091709136963, -0.11660660058259964, 0.15840663015842438, 0.2710341513156891, -0.4841110110282898, 0.034551169723272324, 0.5159621834754944, -0.33979684114456177, -0.4523611068725586, -0.3895249664783478, -0.2936127185821533, -0.018817542120814323, 0.5444254279136658, 0.35148027539253235, 0.40272101759910583, -0.366755872964859, 0.21244129538536072, 0.3149418234825134, 0.806317150592804, -0.26247337460517883, -0.639685332775116, 0.7697069048881531, -0.3683745861053467, 0.052000485360622406, 0.033449191600084305, -0.24863643944263458, 0.25359079241752625, -0.08509460091590881, 0.7492308020591736, -0.3768904209136963, 0.2605160176753998, 0.29326415061950684, -0.43880486488342285, -0.49368569254875183, -0.7195039987564087, -0.7674174308776855, 0.37104856967926025, 0.07948033511638641, -0.5692003965377808, 0.45926785469055176, 0.09641429781913757, -0.5012675523757935, -0.24667638540267944, 0.5302532315254211, 0.26962149143218994, 0.7614946961402893, -0.6594889760017395, -0.07222539931535721, 0.09073350578546524, -0.4091072082519531, -0.3287976384162903, -0.36007267236709595, 0.4627784490585327, -0.2560071051120758, 0.29712769389152527, -0.22192735970020294, 0.3454784154891968, 0.34136947989463806, -0.44074809551239014, -0.2187461107969284, 0.47553136944770813, 0.5612687468528748, 0.0029175346717238426, -0.3421270251274109, 0.02090309001505375, 0.13994373381137848, 0.45176851749420166, -0.525497317314148, -0.27413418889045715, -0.020477084442973137, 0.476859450340271, -0.3017219007015228, -0.529123067855835, 0.5332278609275818, 0.1121126189827919, 0.6425570249557495, -0.10322199761867523, -0.23802800476551056, -0.24178913235664368, -0.021680444478988647, 0.17301124334335327, 0.5170204639434814, -0.2565954029560089, 0.29790452122688293, -0.2097236067056656, -0.4436075687408447, -0.33653154969215393, 0.1309116780757904, -0.3681154251098633, -0.24565289914608002, 0.19498886168003082, -0.1874925196170807, 0.35938867926597595, -0.1997918039560318, 0.12141099572181702, 0.8201215863227844, -0.02816818282008171, 0.07000000029802322, 0.3685356080532074, 0.09585678577423096, 0.5209259390830994, 0.2366020232439041, -0.07348436862230301, 0.309076189994812, 0.7286403775215149, 0.5544149875640869, 0.17927232384681702, -0.2126670926809311, 0.7556954026222229, 0.7577965259552002, 0.21508876979351044, -0.35964229702949524, -0.06531092524528503, 0.6468581557273865, -0.2808288037776947, 0.21221226453781128, 0.8939481377601624, 0.548628032207489, 0.2363993376493454, -0.21448522806167603, 0.3157828450202942, -0.07907915115356445, -0.1755799502134323, -0.20432792603969574, -0.22429974377155304, -0.021138669922947884, 0.4727696478366852, -0.39137569069862366, 0.370587557554245, 0.4478444457054138, 0.19077560305595398, -0.7735711336135864, -0.38020145893096924, 0.013715866953134537, -0.19120968878269196, -0.35554105043411255, -0.3991219699382782, 0.7962676286697388, -0.3960252106189728, -0.4495312571525574, -0.2704754173755646, 0.22915199398994446, 0.14507721364498138, -0.003528937930241227, -0.5617725253105164, -0.616075873374939, 0.15436486899852753, -0.47179311513900757, -0.5044633150100708, -0.07452519237995148, -0.5620024800300598, -0.6018252372741699, -0.08383920043706894, 0.6081503033638, -0.22880563139915466, -0.44031792879104614, 0.30565303564071655, -0.05431507155299187, -0.7459630966186523, -0.22234120965003967, 0.04921673610806465, 0.4239329993724823, 0.20037822425365448, 0.5606322288513184, -0.06422369927167892, 0.11233193427324295, -0.25341615080833435, -0.4849032461643219, -0.15705949068069458, -0.37869712710380554, 0.46982282400131226, 0.42967233061790466, -0.7475035786628723, -0.13506700098514557, -0.6857237815856934, -0.6701395511627197, 0.12156455963850021, 0.21067552268505096, -0.5493462681770325, -0.6752086877822876, -0.450869083404541, 0.3320530354976654, -0.22990959882736206, 0.46468833088874817, 0.39799728989601135, -0.36744868755340576, 0.4440712034702301, -0.0675264373421669, 0.21664462983608246, -0.05868416652083397, 0.192740797996521, 0.3450731635093689, -0.10113486647605896, -0.1698891520500183, 0.11355273425579071, 0.2271033674478531, -0.5768580436706543, -0.29496145248413086, -0.13036872446537018, 0.14260366559028625, -0.3826548159122467, 0.4354434013366699, 0.5261474847793579, -0.13296101987361908, 0.5789707899093628, 0.48591285943984985, -0.3935620188713074, 0.7215301990509033, -0.4807366132736206, 0.38397619128227234, -0.09015727788209915, -0.40759313106536865, 0.7446434497833252, -0.13688762485980988, 0.3843817114830017, 0.14074665307998657, 0.49706047773361206, 0.21508829295635223, 0.5583394169807434, -0.11407537758350372, 0.07765471190214157, 0.32422104477882385, -0.45878711342811584, 0.12590183317661285, -0.1960192173719406, -0.5227351784706116, -0.2520580291748047, 0.04849150404334068, -0.3952762484550476, -0.02331775799393654, -0.01168069802224636, 0.17543362081050873, -0.6374277472496033, 0.33806493878364563, -0.4398952126502991, -0.4553949236869812, 0.5327357053756714, 0.24202796816825867, 0.26370248198509216, 0.6080970168113708, -0.5106297135353088, 0.21963022649288177, -0.07870800793170929, 0.11889927089214325, -0.40458571910858154, -0.4693955183029175, 0.22399605810642242, -0.02986925281584263, -0.06425628811120987, 0.6239041090011597, -0.16386181116104126, 0.20972087979316711, 0.41724926233291626, -0.06325499713420868, -0.07392759621143341, 0.39266419410705566, -0.16161814332008362, 0.18311166763305664, 0.8047279715538025, -0.6807688474655151, 0.2249290645122528, -0.039333172142505646, -0.7018086314201355, 0.3435412049293518, -0.07648058980703354, 0.42142292857170105, -0.17276319861412048, 0.6344183683395386, 0.2617866098880768, 0.18727459013462067, 0.0973595678806305, 0.40228331089019775, -0.352193146944046, -0.6117346286773682, 0.10387734323740005, 0.29434648156166077, -0.5214486718177795, -0.15278516709804535, 0.1993057131767273, 0.175883486866951, 0.3298328220844269, -0.07625167816877365, 0.7399036884307861, -0.4427606463432312, -0.5356380343437195, -0.009043789468705654, -0.1837502270936966, -0.24222978949546814, 0.04203945770859718, 0.6548758149147034, -0.7258022427558899, -0.5227717757225037, 0.45764338970184326, 0.27085161209106445, -0.5313398838043213, 0.2876364588737488, 0.4681168496608734, 0.6692583560943604, 0.3381037712097168, -0.36817488074302673, -0.6564180850982666, 0.521388590335846, -0.4213591516017914, 0.5921522974967957, 0.2761678099632263, -0.5948792099952698, -0.010984895750880241, 0.352611243724823, 0.3414077162742615, -0.7898328304290771, 0.11942104250192642, -0.005142882000654936, 0.3856821358203888, -0.5444419384002686, 0.0844484269618988, 0.28597208857536316, 0.3368518352508545, 0.5771350860595703, 0.37788671255111694, -0.27904272079467773, 0.3011804223060608, -0.05146241560578346, -0.3254639506340027, -0.05466727539896965, -0.04024256393313408, 0.7449020743370056, -0.2688811123371124, -0.5291540026664734, 0.4442909061908722, -0.2463102638721466, -0.5044746398925781, -0.024263596162199974, -0.3462451696395874, -0.234942227602005, -0.7072612643241882, -0.23983268439769745, -0.409388929605484, 0.03293600305914879, 0.03991008549928665, -0.6468108296394348, -0.28284960985183716, -0.003109743120148778, 0.2518825829029083, -0.46381452679634094, -0.23001034557819366, 0.4695901572704315, 0.26617273688316345, 0.34450411796569824, 0.3848032057285309, 0.7460201978683472, 0.1976635605096817, -0.60533607006073, 0.82532799243927, -0.03453763946890831, 0.21738889813423157, 0.20287346839904785, 0.5446735620498657, -0.016129018738865852, 0.24959810078144073, 0.6882005333900452, -0.5510677099227905, -0.1770789921283722, 0.3320046365261078, -0.1477758139371872, 0.23797298967838287, 0.5195400714874268, -0.16167187690734863, -0.07377443462610245, 0.4480942189693451, 0.4074375629425049, -0.21866527199745178, 0.7392469644546509, -0.4103921949863434, 0.15986652672290802, 0.7767508029937744, 0.03172009810805321, 0.5433042049407959, -0.16580985486507416, 0.006439418066293001, 0.14672625064849854, 0.16321153938770294, -0.5060887336730957, 0.5372908711433411, -0.09912287443876266, 0.8626861572265625, -0.15295620262622833, -0.43046095967292786, 0.0930270403623581, -0.4716269373893738, 0.11298005282878876, -0.3414851427078247, 0.628512978553772, -0.6616441607475281, 0.1653338372707367, 0.4874914884567261, 0.36282286047935486, 0.35037294030189514, 0.41148102283477783, -0.3440694212913513, -0.38853010535240173, -0.4881691038608551, -0.21721091866493225, 0.7553403377532959, 0.015431192703545094, 0.26413974165916443, -0.49758705496788025, -0.619395911693573, 0.3921760320663452, -0.1919691264629364, 0.6121413707733154, -0.028500018641352654, -0.6202587485313416, 0.14807680249214172, 0.013334325514733791, -0.053760264068841934, 0.12668782472610474, -0.44224274158477783, 0.8401347994804382, 0.16862371563911438, 0.42127323150634766, 0.02195650525391102, 0.7167666554450989, 0.18449623882770538, -0.025036823004484177, 0.15000908076763153, -0.6930016279220581, 0.5844895839691162, 0.18581105768680573, 0.6467686295509338, -0.599277675151825, 0.4809984862804413, 0.5671880841255188, 0.37534141540527344, -0.01488752942532301, 0.9037056565284729, 0.4175543189048767, 0.701460063457489, -0.480728417634964, 0.032401569187641144, -0.09137164801359177, 0.2954767048358917, 0.1940939873456955, -0.5697451233863831, 0.7072044014930725, -0.7493538856506348, 0.10789361596107483, -0.05437489226460457, -0.4794245660305023, -0.37333938479423523, -0.9112873077392578, 0.5587002635002136, -0.42818745970726013, 0.571141242980957, -0.12979596853256226, 0.39273500442504883, -0.6968721151351929, 0.23836854100227356, 0.3723737597465515, -0.27539166808128357, -0.6691117882728577, 0.18394170701503754, -0.48543670773506165, 0.5923931002616882, -0.20892266929149628, -0.12834976613521576, -0.35777661204338074, 0.1792323887348175, -0.12388691306114197, -0.7795135974884033, -0.3952789008617401, -0.509320080280304, -0.5160196423530579, 0.035503968596458435, 0.69852215051651, -0.5958989858627319, -0.4720766842365265, 0.42672550678253174, -0.6033110618591309, 0.1691996306180954, -0.5140454769134521, 0.5325354337692261, 0.8808724284172058, 0.3322973847389221, 0.3876803517341614, -0.2022855281829834, -0.6673336625099182, 0.7828568816184998, -0.06724037230014801, -0.269269198179245, -0.0442497655749321, -0.23510214686393738, -0.6899416446685791, -0.010188703425228596, 0.4612964391708374, 0.1793552041053772, 0.2388913929462433, -0.23502227663993835, 0.2520348131656647, 0.9275482892990112, 0.3255327045917511, -0.7806611657142639, 0.1648050844669342, 0.6944676637649536, 0.018056023865938187, -0.5098451972007751, 0.1850563883781433, 0.7799261212348938, -0.5534200072288513, -0.8765920996665955, 0.5799294114112854, -0.19280469417572021, -0.4499461054801941, 0.2696826756000519, -0.6597018241882324, 0.6152715086936951, 0.22231540083885193, 0.6765891909599304, 0.3066804111003876, -0.4936830699443817, -0.3183954954147339, 0.35449281334877014, 0.11108976602554321, -0.3783133029937744, 0.563741147518158, -0.6489322781562805, 0.2963593900203705, 0.02347872219979763, -0.1275443136692047, 0.14044731855392456, 0.18508119881153107, 0.31569787859916687, -0.1256878674030304, 0.26672786474227905, -0.25937265157699585, -0.7142674922943115, 0.004486813675612211, 0.10669352114200592, 0.5893811583518982, 0.04202008992433548, -0.20689484477043152, 0.6121926307678223, -0.011526908725500107, -0.4793718159198761, 0.4533877670764923, 0.600426435470581, -0.5084784030914307, 0.2880781292915344, -0.15404295921325684, -0.08999425172805786, 0.3057509958744049, 0.0025078600738197565, 0.012618065811693668, 0.09622322022914886, 0.572234570980072, -0.20699837803840637, 0.5177163481712341, -0.11988300085067749, 0.28040802478790283, 0.17010998725891113, 0.05486736446619034, 0.31065061688423157, -0.24492967128753662, -0.5741274356842041, -0.1626465618610382, -0.0860501378774643, 0.38234007358551025, 0.4541037678718567, -0.7210554480552673, -0.17909002304077148, 0.45227134227752686, 0.45615291595458984, 0.3386721909046173, -0.5673470497131348, -0.41734829545021057, -0.04892639443278313, -0.18952235579490662, -0.61290442943573, 0.8147243857383728, 0.5550394654273987, -0.34943506121635437, -0.4227381646633148, 0.34472233057022095, -0.8277090787887573, 0.7233319878578186, -0.04799322411417961, 0.21243013441562653, 0.4431087076663971, 0.5801917910575867, 0.34375521540641785, -0.01593592017889023, -0.031701281666755676, 0.09487222135066986, 0.028922386467456818, -0.39350181818008423, -0.239750936627388, -0.7187549471855164, 0.6692813038825989, 0.25066760182380676, -0.5441926717758179, 0.36646732687950134, 0.7261363863945007, -0.3398960828781128, 0.41280728578567505, -0.5945818424224854, 0.32897332310676575, -0.25208941102027893, 0.34856635332107544, -0.6970909237861633]], [[0.3573873043060303, 0.3396429717540741, 0.35712847113609314, -0.20478656888008118, 0.3556429445743561, 0.31885963678359985, -0.04291271045804024, 0.8487176895141602, -0.32351845502853394, 0.05863044038414955, 0.6546579003334045, 0.3879937529563904, 0.4304840564727783, -0.05694476142525673, 0.11612427234649658, -0.48188474774360657, -0.22826698422431946, 0.07381904125213623, -0.36551031470298767, 0.41869187355041504, 0.1947394758462906, 0.402541846036911, -0.17616045475006104, -0.4287320077419281, 0.7931656241416931, -0.7489794492721558, -0.17397281527519226, -0.5460492372512817, -0.666114330291748, -0.10103385150432587, -0.08029740303754807, 0.6133981943130493, -0.41361215710639954, -0.3123408555984497, 0.16323262453079224, 0.01906685344874859, -0.1266152262687683, -0.1726711541414261, 0.286650151014328, -0.1685597449541092, -0.054779861122369766, -0.21024645864963531, 0.7446056604385376, 0.34491264820098877, -0.05527620017528534, -0.5642070770263672, 0.2537030875682831, -0.4518199563026428, -0.4225524663925171, 0.136834517121315, 0.28837713599205017, -0.12227749079465866, -0.543030858039856, 0.3633563816547394, -0.3031512498855591, -0.16278475522994995, 0.7601253390312195, -0.06972000747919083, 0.03082936443388462, -0.2556699514389038, 0.3955932855606079, 0.26516175270080566, 0.09010879695415497, -0.2415764033794403, -0.043182145804166794, 0.4708245098590851, -0.5551852583885193, -0.5315833687782288, 0.3568100333213806, -0.2886546850204468, 0.5139203667640686, 0.38335829973220825, -0.26311931014060974, -0.8671247959136963, -0.47760218381881714, -0.42698541283607483, -0.36259403824806213, -0.22877123951911926, 0.24623702466487885, -0.24716487526893616, 0.8686533570289612, 0.7317483425140381, -0.4411120116710663, 0.8057273030281067, 0.34539496898651123, 0.0053627872839570045, -0.12307145446538925, 0.1386484056711197, -0.35701069235801697, -0.20672322809696198, -0.09774598479270935, 0.17924447357654572, -0.5499605536460876, 0.048066992312669754, 0.6376861929893494, -0.7906400561332703, -0.3960244655609131, -0.6330483555793762, 0.6010183691978455, 0.26300227642059326, -0.19746902585029602, 0.5897819995880127, 0.44845855236053467, 0.08168593049049377, 0.1328575760126114, -0.1689789593219757, 0.1785287708044052, 0.4966217577457428, 0.5634927749633789, 0.8838098645210266, 0.5689053535461426, -0.5712704062461853, 0.42720937728881836, 0.6073612570762634, -0.18717420101165771, 0.6201220750808716, -0.4419305622577667, 0.3263397812843323, 0.5434203147888184, 0.2288246899843216, -0.1370268613100052, -0.22840991616249084, -0.5106033086776733, -0.26329734921455383, 0.2329069972038269, -0.5942302346229553, -0.6583330631256104, -0.4975869655609131, -0.5632400512695312, -0.5055291056632996, 0.5876873731613159, 0.15551702678203583, 0.06205199658870697, 0.1771090179681778, -0.005074293352663517, -0.15333504974842072, -0.1627095639705658, -0.5988803505897522, -0.6254716515541077, -0.17018361389636993, -0.3076231777667999, -0.1809113472700119, -0.2829042673110962, -0.5753810405731201, -0.07564366608858109, 0.2648795247077942, -0.119359590113163, 0.04137440398335457, -0.49412795901298523, 0.28779149055480957, 0.8890511989593506, -0.6650145053863525, 0.15102602541446686, 0.4534314274787903, -0.402760773897171, 0.10385016351938248, 0.21920010447502136, -0.23577605187892914, 0.6874217391014099, -0.48388949036598206, -0.07948296517133713, -0.028105827048420906, 0.2835462987422943, 0.39270806312561035, 0.17512325942516327, -0.24341608583927155, 0.8806434869766235, 0.49346405267715454, 0.23353879153728485, -0.6068642139434814, -0.14820310473442078, 0.3407280445098877, 0.38013556599617004, -0.02434300258755684, 0.48115256428718567, -0.05487995967268944, -0.21664750576019287, 0.5606253743171692, 0.7365925908088684, -0.7347309589385986, -0.5256912112236023, 0.8252129554748535, -0.4132077395915985, 0.1966961920261383, 0.07826926559209824, -0.3278197646141052, -0.3608662188053131, -0.6323187947273254, 0.8517237305641174, -0.49381956458091736, 0.18715526163578033, -0.05455935001373291, -0.3768891394138336, -0.4642356336116791, -0.1485571414232254, -0.7813658714294434, 0.07506288588047028, 0.21445339918136597, -0.6284159421920776, -0.08234285563230515, 0.6650187969207764, -0.6607189774513245, -0.27465784549713135, 0.849555492401123, -0.015995806083083153, 0.5515729188919067, -0.806774914264679, -0.25493597984313965, 0.5524357557296753, -0.8214844465255737, 0.05077081918716431, 0.15666644275188446, -0.1275540590286255, 0.27228400111198425, 0.015654446557164192, -0.30031004548072815, -0.03167380765080452, 0.3295814096927643, 0.04101819917559624, -0.10225571691989899, 0.30080312490463257, 0.588309109210968, -0.35060086846351624, -0.27907484769821167, -0.10966385155916214, 0.6816082000732422, -0.21305017173290253, 0.3689410388469696, -0.407711386680603, 0.4288554787635803, 0.6779417395591736, -0.11748695373535156, -0.6364487409591675, 0.6963492631912231, 0.18452997505664825, 0.5424764752388, -0.690948486328125, 0.381546288728714, 0.30415627360343933, 0.03817868232727051, 0.687450110912323, 0.6552228927612305, -0.23448924720287323, 0.15114744007587433, -0.06527795642614365, -0.7513914704322815, 0.07515091449022293, -0.3307591676712036, -0.4204613268375397, 0.25807905197143555, -0.6665748357772827, 0.16755010187625885, 0.2787403166294098, -0.7612839341163635, 0.1987563520669937, 0.8043540716171265, 0.09035845845937729, 0.44633713364601135, 0.02192545123398304, -0.1213335171341896, 0.3522818684577942, 0.12644794583320618, 0.14449316263198853, 0.07641240209341049, 0.09819900989532471, 0.7619223594665527, -0.22959357500076294, -0.3789624273777008, 0.7001613974571228, 0.49740245938301086, 0.05124281719326973, 0.23759040236473083, -0.14902745187282562, 0.8829489350318909, -0.004052408039569855, -0.30490928888320923, 0.6454350352287292, 0.39801010489463806, -0.534536600112915, 0.2502119541168213, -0.49612417817115784, 0.010455078445374966, -0.11643212288618088, -0.5335814952850342, -0.5271768569946289, 0.2834409177303314, 0.2965817451477051, -0.03706401586532593, 0.40602415800094604, -0.4721723794937134, -0.28979238867759705, -0.26731687784194946, -0.05721348896622658, -0.6126202344894409, -0.1977025717496872, 0.10740598291158676, -0.560983419418335, 0.8806334137916565, -0.3561505079269409, -0.4154164791107178, -0.23105639219284058, 0.5436869263648987, 0.3449997901916504, 0.10721723735332489, -0.42074820399284363, 0.4240425229072571, -0.09752313047647476, -0.6513250470161438, -0.6793879270553589, -0.6426849961280823, -0.1095186173915863, -0.0939185693860054, -0.03278162330389023, 0.7096424698829651, 0.0475425124168396, -0.0756673514842987, -0.04774484038352966, -0.2456083744764328, -0.8209933042526245, 0.06158611550927162, 0.4649205803871155, 0.6647852063179016, 0.5471970438957214, 0.5314971208572388, -0.21850807964801788, 0.1464763581752777, 0.1196543276309967, -0.4545818567276001, -0.5009905099868774, -0.06510528922080994, 0.6455197930335999, 0.394307404756546, 0.1059371829032898, 0.22741274535655975, -0.09275726228952408, -0.6972729563713074, 0.8381791114807129, -0.10431421548128128, 0.3085266947746277, -0.8061507940292358, -0.1315404176712036, 0.5207564234733582, -0.29986172914505005, 0.14822173118591309, 0.5561562180519104, 0.40155646204948425, 0.5301263928413391, 0.3405264616012573, -0.24669931828975677, 0.415589302778244, -0.08598088473081589, 0.17328765988349915, -0.5068773031234741, -0.4422527551651001, 0.38748639822006226, 0.3069523870944977, -0.3613128662109375, 0.340538889169693, -0.24370934069156647, 0.06511694192886353, 0.1299114227294922, 0.2302510142326355, 0.46819841861724854, -0.0034110115375369787, -0.09986203163862228, 0.18759173154830933, 0.49792999029159546, 0.6291207671165466, -0.7053607702255249, 0.16494528949260712, 0.36717718839645386, -0.08588514477014542, 0.7133035659790039, -0.15698812901973724, -0.3411082327365875, 0.22632305324077606, 0.1118801012635231, -0.31763747334480286, -0.34808552265167236, -0.15154153108596802, -0.3273397386074066, -0.015928709879517555, -0.3573298454284668, -0.23889663815498352, 0.016991708427667618, 0.14812983572483063, -0.017662297934293747, 0.5465056300163269, 0.5277053713798523, 0.5559906959533691, 0.44007056951522827, 0.12543164193630219, -0.6769886612892151, 0.636449933052063, -0.32643923163414, -0.30749163031578064, 0.5017383098602295, 0.03316943347454071, 0.3220694363117218, 0.24578960239887238, -0.670153796672821, 0.015282837674021721, -0.5076488256454468, 0.21775242686271667, -0.2249651700258255, -0.3557831943035126, 0.28457823395729065, -0.06565934419631958, 0.5333184003829956, 0.5073205828666687, -0.23762419819831848, 0.30965062975883484, 0.2606916129589081, 0.11847468465566635, -0.4261833727359772, 0.5001251101493835, -0.5954292416572571, -0.503499448299408, 0.7000698447227478, -0.7783718705177307, -0.01972443237900734, -0.26221856474876404, -0.74616539478302, -0.5911031365394592, 0.11053694039583206, 0.5949739217758179, 0.22372235357761383, 0.2762819528579712, 0.5819149613380432, 0.5477961301803589, 0.3181834816932678, 0.3828159272670746, -0.3242446482181549, -0.24618954956531525, 0.14220747351646423, 0.7037805914878845, -0.2599560022354126, 0.16513176262378693, -0.13568030297756195, 0.31597232818603516, 0.5281444191932678, 0.2770000398159027, 0.8476231694221497, 0.06815407425165176, -0.01734321191906929, 0.5383772253990173, 0.05302365869283676, -0.09610127657651901, 0.1957821100950241, 0.5720833539962769, -0.37538865208625793, -0.5169870257377625, 0.6011806130409241, -0.32778042554855347, 0.04642970487475395, 0.30363112688064575, 0.40232670307159424, 0.6146462559700012, -0.15061721205711365, -0.6365829706192017, -0.40684080123901367, 0.6736853718757629, 0.24466943740844727, 0.5497127175331116, 0.38329845666885376, -0.7544123530387878, -0.04071597009897232, 0.14341376721858978, 0.09919455647468567, -0.6221179366111755, 0.0740400031208992, -0.14696365594863892, 0.19375793635845184, -0.5678544044494629, -0.3388226628303528, 0.17622940242290497, -0.2884323000907898, 0.7746866941452026, 0.1845085620880127, 0.04592370614409447, -0.04415768012404442, 0.06733240187168121, -0.6265984177589417, -0.05183344706892967, 0.15106506645679474, 0.8031604886054993, 0.19302958250045776, 0.1646556407213211, 0.34880638122558594, 0.48998209834098816, 0.266771525144577, -0.5524080991744995, -0.1535886526107788, -0.23077380657196045, -0.45087191462516785, 0.32381683588027954, 0.01740075834095478, 0.39478111267089844, -0.16857007145881653, -0.6876605749130249, 0.11907123774290085, 0.26942917704582214, 0.7055989503860474, -0.13144241273403168, 0.36045995354652405, 0.4216482639312744, 0.1567879319190979, 0.18638141453266144, 0.18691855669021606, 0.70879065990448, -0.1055816113948822, -0.07117856293916702, 0.8138027787208557, 0.02540816180408001, -0.10549558699131012, 0.1859172135591507, 0.038154926151037216, -0.5636184811592102, -0.13524122536182404, 0.7986133694648743, -0.8494060039520264, -0.20890532433986664, 0.6714619994163513, -0.5631476640701294, 0.07041477411985397, 0.2883155047893524, 0.08794726431369781, 0.10349304974079132, 0.1175769492983818, 0.5217996835708618, 0.27948662638664246, 0.5939614176750183, -0.2656884491443634, -0.17610736191272736, -0.15053950250148773, -0.5472175478935242, 0.07829493284225464, 0.38903382420539856, -0.10532937198877335, 0.28610706329345703, 0.33027172088623047, -0.24320194125175476, 0.5285952687263489, -0.2793709933757782, 0.4428495168685913, -0.05691949650645256, -0.6538213491439819, 0.5881955027580261, -0.2624659240245819, 0.01647782139480114, -0.38441842794418335, 0.47413110733032227, -0.07203490287065506, 0.08332332968711853, 0.33545637130737305, 0.5121195316314697, -0.07080666720867157, 0.251069575548172, -0.6751448512077332, -0.19747784733772278, -0.5382546186447144, -0.1717551201581955, 0.3379790484905243, 0.4911337196826935, -0.30466464161872864, -0.6109896302223206, 0.6163132786750793, 0.24698272347450256, -0.02522694692015648, 0.48729199171066284, 0.08870528638362885, -0.6644267439842224, 0.35967758297920227, 0.10535487532615662, 0.15238896012306213, 0.4731126129627228, -0.6671550869941711, 0.828080415725708, 0.7269872426986694, 0.6854748725891113, 0.3321089744567871, 0.4691414535045624, 0.4653341472148895, -0.2157415747642517, -0.07563585042953491, -0.48387768864631653, 0.39585763216018677, -0.037676550447940826, 0.18380539119243622, -0.38278377056121826, 0.451645165681839, 0.04413190484046936, 0.384215384721756, 0.3490085005760193, 0.5904397964477539, 0.5055724382400513, 0.33065542578697205, 0.30184656381607056, 0.18904893100261688, 0.2759343385696411, -0.1992345005273819, 0.5759930610656738, -0.6634107232093811, 0.5552369356155396, -0.7638987302780151, -0.026062561199069023, 0.5922297835350037, -0.24512352049350739, -0.412652850151062, -0.6396193504333496, 0.42466622591018677, -0.27982184290885925, 0.43317997455596924, -0.13861733675003052, 0.42509570717811584, -0.7335007190704346, 0.5240755677223206, 0.5442082285881042, 0.13891257345676422, -0.33683139085769653, -0.31915682554244995, -0.7290576100349426, 0.6705486178398132, -0.6408044695854187, -0.013128230348229408, -0.26713937520980835, 0.18807455897331238, 0.6660252213478088, 0.11117905378341675, 0.005789304617792368, 0.2096804678440094, -0.12627184391021729, 0.6072179079055786, 0.28975585103034973, -0.5148035883903503, -0.4414285719394684, 0.292257696390152, -0.32063859701156616, -0.3610270321369171, 0.16959188878536224, -0.26139217615127563, 0.35546237230300903, 0.2274501621723175, 0.4881936311721802, -0.22545550763607025, 0.028970448300242424, 0.3798682689666748, 0.08186432719230652, -0.40394487977027893, -0.10654021054506302, 0.4155375361442566, -0.8669102191925049, 0.10979591310024261, 0.45270535349845886, 0.3355585038661957, 0.5096436142921448, 0.4176730811595917, 0.2729884088039398, 0.45909926295280457, 0.2507440745830536, -0.5103457570075989, 0.7450039386749268, 0.7219173908233643, -0.30562013387680054, -0.4003331959247589, 0.44047895073890686, 0.17737852036952972, 0.3476414978504181, -0.7705594897270203, -0.3490138351917267, 0.30048924684524536, -0.5933740735054016, 0.093265101313591, -0.6740409135818481, 0.7783006429672241, 0.39350998401641846, 0.8360342383384705, -0.29108041524887085, -0.7544785141944885, -0.3088700771331787, -0.1414124220609665, 0.537757396697998, -0.06788988411426544, -0.2840220332145691, -0.39351409673690796, -0.3342103660106659, -0.2397606521844864, -0.28461378812789917, 0.27402156591415405, 0.30102506279945374, 0.29696938395500183, -0.19197463989257812, 0.11718150973320007, 0.00244758534245193, 0.4038951098918915, -0.46581584215164185, -0.17300337553024292, 0.21793638169765472, 0.008767439983785152, -0.7680464386940002, 0.3013295829296112, 0.32084307074546814, -0.7488976120948792, 0.6732107400894165, 0.4086473286151886, -0.16637590527534485, 0.20802836120128632, -0.10510267317295074, -0.4021247327327728, -0.06842252612113953, -0.22637011110782623, 0.5244136452674866, 0.460425466299057, 0.7849929332733154, 0.23265884816646576, 0.6152239441871643, 0.7234074473381042, 0.3074488043785095, 0.7017417550086975, 0.2615945637226105, -0.20419174432754517, 0.3326498568058014, -0.2820202708244324, -0.04200528934597969, 0.022604219615459442, -0.25529173016548157, 0.6301761269569397, 0.12087515741586685, -0.28341636061668396, 0.1411018818616867, 0.4117639660835266, -0.05982824042439461, -0.5129402875900269, 0.0410698764026165, 0.6441047787666321, -0.7715809345245361, -0.49416038393974304, 0.900127112865448, 0.42747294902801514, -0.729796290397644, -0.6367887258529663, 0.14713776111602783, -0.7062242031097412, 0.042207662016153336, 0.0015805648872628808, 0.15811476111412048, 0.822290301322937, 0.8085991144180298, -0.36496150493621826, -0.22791951894760132, 0.10361727327108383, 0.1594902127981186, -0.19197869300842285, -0.4019695520401001, 0.10000768303871155, -0.1718498170375824, 0.627120852470398, 0.5006531476974487, -0.14729003608226776, 0.16076287627220154, 0.7990869879722595, -0.03531927987933159, 0.6599323749542236, -0.42253679037094116, 0.030514977872371674, -0.6704885959625244, 0.27348464727401733, -0.6579937934875488]]]\n"
          ]
        }
      ]
    },
    {
      "cell_type": "code",
      "source": [
        "from torch.nn.functional import cosine_similarity\n",
        "\n",
        "similarity_score = cosine_similarity(torch.Tensor(outputs[0]),\n",
        "                                     torch.Tensor(outputs[1]), dim=1)\n",
        "\n",
        "print(similarity_score)"
      ],
      "metadata": {
        "colab": {
          "base_uri": "https://localhost:8080/"
        },
        "id": "uROjpO_QHNWd",
        "outputId": "d0aadc28-a022-46be-ed2f-ef1774085404"
      },
      "execution_count": 7,
      "outputs": [
        {
          "output_type": "stream",
          "name": "stdout",
          "text": [
            "tensor([0.6122])\n"
          ]
        }
      ]
    },
    {
      "cell_type": "code",
      "source": [
        "pipe = pipeline(task=\"image-feature-extraction\", model_name=\"google/vit-base-patch16-224\", device=DEVICE)\n",
        "output = pipe(image_real)"
      ],
      "metadata": {
        "colab": {
          "base_uri": "https://localhost:8080/"
        },
        "id": "7wBjK97gHOTJ",
        "outputId": "c11e7075-da76-4ecf-8281-5c5551614e36"
      },
      "execution_count": 8,
      "outputs": [
        {
          "output_type": "stream",
          "name": "stderr",
          "text": [
            "No model was supplied, defaulted to google/vit-base-patch16-224 and revision 3f49326 (https://huggingface.co/google/vit-base-patch16-224).\n",
            "Using a pipeline without specifying a model name and revision in production is not recommended.\n",
            "Some weights of ViTModel were not initialized from the model checkpoint at google/vit-base-patch16-224 and are newly initialized: ['vit.pooler.dense.bias', 'vit.pooler.dense.weight']\n",
            "You should probably TRAIN this model on a down-stream task to be able to use it for predictions and inference.\n",
            "Fast image processor class <class 'transformers.models.vit.image_processing_vit_fast.ViTImageProcessorFast'> is available for this model. Using slow image processor class. To use the fast image processor class set `use_fast=True`.\n"
          ]
        }
      ]
    },
    {
      "cell_type": "code",
      "source": [
        "import numpy as np\n",
        "print(np.array(outputs).shape)"
      ],
      "metadata": {
        "colab": {
          "base_uri": "https://localhost:8080/"
        },
        "id": "jnpMF_B8HQtU",
        "outputId": "b8e5775f-3f33-4739-81e8-584455969a50"
      },
      "execution_count": 9,
      "outputs": [
        {
          "output_type": "stream",
          "name": "stdout",
          "text": [
            "(2, 1, 768)\n"
          ]
        }
      ]
    },
    {
      "cell_type": "markdown",
      "source": [
        "# Getting Features and Similarities using AutoModel"
      ],
      "metadata": {
        "id": "74XpBQhHHdm9"
      }
    },
    {
      "cell_type": "code",
      "source": [
        "from transformers import AutoImageProcessor, AutoModel\n",
        "\n",
        "processor = AutoImageProcessor.from_pretrained(\"google/vit-base-patch16-224\")\n",
        "model = AutoModel.from_pretrained(\"google/vit-base-patch16-224\").to(DEVICE)"
      ],
      "metadata": {
        "colab": {
          "base_uri": "https://localhost:8080/"
        },
        "id": "53D_GrRwHe51",
        "outputId": "09f34944-073b-4c33-c3b0-a42c1d95baf1"
      },
      "execution_count": 10,
      "outputs": [
        {
          "output_type": "stream",
          "name": "stderr",
          "text": [
            "Fast image processor class <class 'transformers.models.vit.image_processing_vit_fast.ViTImageProcessorFast'> is available for this model. Using slow image processor class. To use the fast image processor class set `use_fast=True`.\n",
            "Some weights of ViTModel were not initialized from the model checkpoint at google/vit-base-patch16-224 and are newly initialized: ['vit.pooler.dense.bias', 'vit.pooler.dense.weight']\n",
            "You should probably TRAIN this model on a down-stream task to be able to use it for predictions and inference.\n"
          ]
        }
      ]
    },
    {
      "cell_type": "code",
      "source": [
        "def infer(image):\n",
        "  inputs = processor(image, return_tensors=\"pt\").to(DEVICE)\n",
        "  outputs = model(**inputs)\n",
        "  return outputs.pooler_output"
      ],
      "metadata": {
        "id": "9FIAQbTDHnz7"
      },
      "execution_count": 11,
      "outputs": []
    },
    {
      "cell_type": "code",
      "source": [
        "embed_real = infer(image_real)\n",
        "embed_gen = infer(image_gen)"
      ],
      "metadata": {
        "id": "5nnXbdWBHp1R"
      },
      "execution_count": 12,
      "outputs": []
    },
    {
      "cell_type": "code",
      "source": [
        "from torch.nn.functional import cosine_similarity\n",
        "\n",
        "similarity_score = cosine_similarity(embed_real, embed_gen, dim=1)\n",
        "print(similarity_score)"
      ],
      "metadata": {
        "colab": {
          "base_uri": "https://localhost:8080/"
        },
        "id": "-WBlx3F1HtQn",
        "outputId": "89bdc053-6407-4c13-8d8f-cc7c930f8d65"
      },
      "execution_count": 13,
      "outputs": [
        {
          "output_type": "stream",
          "name": "stdout",
          "text": [
            "tensor([0.6098], grad_fn=<SumBackward1>)\n"
          ]
        }
      ]
    }
  ]
}